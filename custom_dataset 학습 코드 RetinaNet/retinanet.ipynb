{
 "cells": [
  {
   "cell_type": "code",
   "execution_count": 2,
   "metadata": {},
   "outputs": [
    {
     "name": "stderr",
     "output_type": "stream",
     "text": [
      "Cloning into 'pytorch-retinanet'...\n"
     ]
    }
   ],
   "source": [
    "!git clone https://github.com/yhenon/pytorch-retinanet.git"
   ]
  },
  {
   "cell_type": "code",
   "execution_count": 6,
   "metadata": {},
   "outputs": [
    {
     "name": "stdout",
     "output_type": "stream",
     "text": [
      "['.git', '.gitignore', 'coco_validation.py', 'csv_validation.py', 'images', 'LICENSE', 'README.md', 'retinanet', 'train.py', 'visualize.py', 'visualize_single_image.py']\n"
     ]
    }
   ],
   "source": [
    "import os\n",
    "\n",
    "# 디렉토리 변경\n",
    "os.chdir(\"pytorch-retinanet/\")\n",
    "\n",
    "# 현재 디렉토리 내의 파일 목록 출력\n",
    "print(os.listdir())"
   ]
  },
  {
   "cell_type": "code",
   "execution_count": 22,
   "metadata": {},
   "outputs": [
    {
     "name": "stdout",
     "output_type": "stream",
     "text": [
      "Collecting scikit-image\n",
      "  Downloading scikit_image-0.23.2-cp311-cp311-win_amd64.whl.metadata (14 kB)\n",
      "Requirement already satisfied: numpy>=1.23 in c:\\users\\baseoki\\anaconda3\\envs\\py311\\lib\\site-packages (from scikit-image) (1.26.4)\n",
      "Requirement already satisfied: scipy>=1.9 in c:\\users\\baseoki\\anaconda3\\envs\\py311\\lib\\site-packages (from scikit-image) (1.13.0)\n",
      "Requirement already satisfied: networkx>=2.8 in c:\\users\\baseoki\\anaconda3\\envs\\py311\\lib\\site-packages (from scikit-image) (3.3)\n",
      "Requirement already satisfied: pillow>=9.1 in c:\\users\\baseoki\\anaconda3\\envs\\py311\\lib\\site-packages (from scikit-image) (10.3.0)\n",
      "Collecting imageio>=2.33 (from scikit-image)\n",
      "  Downloading imageio-2.34.1-py3-none-any.whl.metadata (4.9 kB)\n",
      "Collecting tifffile>=2022.8.12 (from scikit-image)\n",
      "  Downloading tifffile-2024.4.24-py3-none-any.whl.metadata (31 kB)\n",
      "Requirement already satisfied: packaging>=21 in c:\\users\\baseoki\\anaconda3\\envs\\py311\\lib\\site-packages (from scikit-image) (24.0)\n",
      "Collecting lazy-loader>=0.4 (from scikit-image)\n",
      "  Downloading lazy_loader-0.4-py3-none-any.whl.metadata (7.6 kB)\n",
      "Downloading scikit_image-0.23.2-cp311-cp311-win_amd64.whl (12.7 MB)\n",
      "   ---------------------------------------- 0.0/12.7 MB ? eta -:--:--\n",
      "    --------------------------------------- 0.2/12.7 MB 6.7 MB/s eta 0:00:02\n",
      "   - -------------------------------------- 0.6/12.7 MB 5.8 MB/s eta 0:00:03\n",
      "   -- ------------------------------------- 0.8/12.7 MB 6.1 MB/s eta 0:00:02\n",
      "   --- ------------------------------------ 1.1/12.7 MB 5.6 MB/s eta 0:00:03\n",
      "   ---- ----------------------------------- 1.3/12.7 MB 5.5 MB/s eta 0:00:03\n",
      "   ----- ---------------------------------- 1.6/12.7 MB 5.7 MB/s eta 0:00:02\n",
      "   ------ --------------------------------- 2.0/12.7 MB 5.9 MB/s eta 0:00:02\n",
      "   ------- -------------------------------- 2.3/12.7 MB 5.9 MB/s eta 0:00:02\n",
      "   -------- ------------------------------- 2.7/12.7 MB 6.0 MB/s eta 0:00:02\n",
      "   --------- ------------------------------ 3.0/12.7 MB 6.1 MB/s eta 0:00:02\n",
      "   ---------- ----------------------------- 3.2/12.7 MB 6.2 MB/s eta 0:00:02\n",
      "   ----------- ---------------------------- 3.5/12.7 MB 6.1 MB/s eta 0:00:02\n",
      "   ----------- ---------------------------- 3.8/12.7 MB 6.2 MB/s eta 0:00:02\n",
      "   ------------ --------------------------- 4.1/12.7 MB 6.2 MB/s eta 0:00:02\n",
      "   ------------- -------------------------- 4.3/12.7 MB 6.3 MB/s eta 0:00:02\n",
      "   -------------- ------------------------- 4.6/12.7 MB 6.3 MB/s eta 0:00:02\n",
      "   --------------- ------------------------ 5.0/12.7 MB 6.4 MB/s eta 0:00:02\n",
      "   ---------------- ----------------------- 5.3/12.7 MB 6.3 MB/s eta 0:00:02\n",
      "   ----------------- ---------------------- 5.5/12.7 MB 6.3 MB/s eta 0:00:02\n",
      "   ------------------ --------------------- 5.7/12.7 MB 6.3 MB/s eta 0:00:02\n",
      "   ------------------ --------------------- 6.0/12.7 MB 6.3 MB/s eta 0:00:02\n",
      "   ------------------- -------------------- 6.3/12.7 MB 6.4 MB/s eta 0:00:02\n",
      "   -------------------- ------------------- 6.6/12.7 MB 6.4 MB/s eta 0:00:01\n",
      "   --------------------- ------------------ 6.9/12.7 MB 6.4 MB/s eta 0:00:01\n",
      "   ---------------------- ----------------- 7.1/12.7 MB 6.3 MB/s eta 0:00:01\n",
      "   ----------------------- ---------------- 7.4/12.7 MB 6.3 MB/s eta 0:00:01\n",
      "   ----------------------- ---------------- 7.6/12.7 MB 6.3 MB/s eta 0:00:01\n",
      "   ------------------------ --------------- 7.8/12.7 MB 6.3 MB/s eta 0:00:01\n",
      "   ------------------------- -------------- 8.2/12.7 MB 6.4 MB/s eta 0:00:01\n",
      "   -------------------------- ------------- 8.5/12.7 MB 6.3 MB/s eta 0:00:01\n",
      "   --------------------------- ------------ 8.8/12.7 MB 6.4 MB/s eta 0:00:01\n",
      "   ---------------------------- ----------- 9.2/12.7 MB 6.4 MB/s eta 0:00:01\n",
      "   ----------------------------- ---------- 9.4/12.7 MB 6.3 MB/s eta 0:00:01\n",
      "   ------------------------------ --------- 9.7/12.7 MB 6.4 MB/s eta 0:00:01\n",
      "   ------------------------------- -------- 9.9/12.7 MB 6.4 MB/s eta 0:00:01\n",
      "   -------------------------------- ------- 10.3/12.7 MB 6.4 MB/s eta 0:00:01\n",
      "   --------------------------------- ------ 10.6/12.7 MB 6.5 MB/s eta 0:00:01\n",
      "   ---------------------------------- ----- 10.8/12.7 MB 6.4 MB/s eta 0:00:01\n",
      "   ----------------------------------- ---- 11.2/12.7 MB 6.5 MB/s eta 0:00:01\n",
      "   ------------------------------------ --- 11.5/12.7 MB 6.5 MB/s eta 0:00:01\n",
      "   ------------------------------------ --- 11.7/12.7 MB 6.5 MB/s eta 0:00:01\n",
      "   ------------------------------------- -- 12.0/12.7 MB 6.5 MB/s eta 0:00:01\n",
      "   -------------------------------------- - 12.2/12.7 MB 6.5 MB/s eta 0:00:01\n",
      "   ---------------------------------------  12.5/12.7 MB 6.5 MB/s eta 0:00:01\n",
      "   ---------------------------------------  12.7/12.7 MB 6.5 MB/s eta 0:00:01\n",
      "   ---------------------------------------- 12.7/12.7 MB 6.4 MB/s eta 0:00:00\n",
      "Downloading imageio-2.34.1-py3-none-any.whl (313 kB)\n",
      "   ---------------------------------------- 0.0/313.5 kB ? eta -:--:--\n",
      "   -------------- ------------------------- 112.6/313.5 kB ? eta -:--:--\n",
      "   -------------------------- ------------- 204.8/313.5 kB 3.1 MB/s eta 0:00:01\n",
      "   ---------------------------------------  307.2/313.5 kB 2.7 MB/s eta 0:00:01\n",
      "   ---------------------------------------- 313.5/313.5 kB 2.8 MB/s eta 0:00:00\n",
      "Downloading lazy_loader-0.4-py3-none-any.whl (12 kB)\n",
      "Downloading tifffile-2024.4.24-py3-none-any.whl (225 kB)\n",
      "   ---------------------------------------- 0.0/225.0 kB ? eta -:--:--\n",
      "   ----------------------------- ---------- 163.8/225.0 kB 5.0 MB/s eta 0:00:01\n",
      "   ---------------------------------------- 225.0/225.0 kB 4.6 MB/s eta 0:00:00\n",
      "Installing collected packages: tifffile, lazy-loader, imageio, scikit-image\n",
      "Successfully installed imageio-2.34.1 lazy-loader-0.4 scikit-image-0.23.2 tifffile-2024.4.24\n"
     ]
    }
   ],
   "source": [
    "!pip install scikit-image"
   ]
  },
  {
   "cell_type": "code",
   "execution_count": 2,
   "metadata": {},
   "outputs": [
    {
     "name": "stdout",
     "output_type": "stream",
     "text": [
      "2.2.2+cu121\n",
      "12.1\n",
      "8801\n"
     ]
    }
   ],
   "source": [
    "import torch\n",
    "print(torch.__version__)\n",
    "print(torch.version.cuda)\n",
    "print(torch.backends.cudnn.version())\n"
   ]
  },
  {
   "cell_type": "code",
   "execution_count": 43,
   "metadata": {},
   "outputs": [
    {
     "name": "stdout",
     "output_type": "stream",
     "text": [
      "^C\n"
     ]
    }
   ],
   "source": [
    "!python train.py --dataset csv --csv_train \"C:\\Users\\baseoki\\OneDrive\\바탕 화면\\프로젝트\\camera_ObjectDetection\\custom_datasset 학습 코드 RetinaNet\\annotations.csv\" --csv_classes \"C:\\Users\\baseoki\\OneDrive\\바탕 화면\\프로젝트\\camera_ObjectDetection\\custom_datasset 학습 코드 RetinaNet\\class.csv\""
   ]
  },
  {
   "cell_type": "code",
   "execution_count": null,
   "metadata": {},
   "outputs": [],
   "source": []
  }
 ],
 "metadata": {
  "kernelspec": {
   "display_name": "base",
   "language": "python",
   "name": "python3"
  },
  "language_info": {
   "codemirror_mode": {
    "name": "ipython",
    "version": 3
   },
   "file_extension": ".py",
   "mimetype": "text/x-python",
   "name": "python",
   "nbconvert_exporter": "python",
   "pygments_lexer": "ipython3",
   "version": "3.11.5"
  }
 },
 "nbformat": 4,
 "nbformat_minor": 2
}
