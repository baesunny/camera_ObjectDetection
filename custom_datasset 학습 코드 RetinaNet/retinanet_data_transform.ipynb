{
 "cells": [
  {
   "cell_type": "code",
   "execution_count": 68,
   "metadata": {},
   "outputs": [
    {
     "name": "stdout",
     "output_type": "stream",
     "text": [
      "C:/Users/baseoki/OneDrive/바탕 화면/프로젝트/camera_ObjectDetection/custom_dataset/1번데이터_cropped/FACE DETECTION.v3i.yolov8/train/images/20220726_ID0001_A_02_N00351_png.rf.33d11d18c6a5ea975643be1f17da001a.jpg\n",
      "C:/Users/baseoki/OneDrive/바탕 화면/프로젝트/camera_ObjectDetection/custom_dataset/1번데이터_cropped/FACE DETECTION.v3i.yolov8/train/images/20220726_ID0001_A_02_N00351_png.rf.8733e438ee4bf2749d001c9c1b67fd0a.jpg\n",
      "C:/Users/baseoki/OneDrive/바탕 화면/프로젝트/camera_ObjectDetection/custom_dataset/1번데이터_cropped/FACE DETECTION.v3i.yolov8/train/images/20220726_ID0001_A_02_N00351_png.rf.a271a942595025c88d09da6362b4dce7.jpg\n",
      "C:/Users/baseoki/OneDrive/바탕 화면/프로젝트/camera_ObjectDetection/custom_dataset/1번데이터_cropped/FACE DETECTION.v3i.yolov8/train/images/20220726_ID0001_A_02_N00444_png.rf.0d2a5785c92aba18e38f02583c079e34.jpg\n",
      "C:/Users/baseoki/OneDrive/바탕 화면/프로젝트/camera_ObjectDetection/custom_dataset/1번데이터_cropped/FACE DETECTION.v3i.yolov8/train/images/20220726_ID0001_A_02_N00444_png.rf.becf21137d9492a0d34568a0f0c45ef4.jpg\n"
     ]
    }
   ],
   "source": [
    "import os\n",
    "import csv\n",
    "\n",
    "# 경로 설정\n",
    "directory_images = r'C:\\Users\\baseoki\\OneDrive\\바탕 화면\\프로젝트\\camera_ObjectDetection\\custom_dataset\\1번데이터_cropped\\FACE DETECTION.v3i.yolov8\\train\\images'\n",
    "\n",
    "# 디렉토리 내의 모든 파일 경로 가져오기\n",
    "file_paths = [[os.path.join(directory_images, filename)] for filename in os.listdir(directory_images) if os.path.isfile(os.path.join(directory_images, filename))]\n",
    "\n",
    "# 결과 출력\n",
    "for i in range(5):\n",
    "    print(file_paths[i][0].replace('\\\\', '/'))"
   ]
  },
  {
   "cell_type": "code",
   "execution_count": 69,
   "metadata": {},
   "outputs": [
    {
     "name": "stdout",
     "output_type": "stream",
     "text": [
      "[126, 17, 527, 563]\n",
      "[66, 31, 526, 622]\n",
      "[126, 24, 527, 591]\n",
      "[100, 101, 484, 544]\n",
      "[148, 121, 495, 550]\n"
     ]
    }
   ],
   "source": [
    "# 디렉토리 경로 설정\n",
    "directory_labels = r'C:\\Users\\baseoki\\OneDrive\\바탕 화면\\프로젝트\\camera_ObjectDetection\\custom_dataset\\1번데이터_cropped\\FACE DETECTION.v3i.yolov8\\train\\labels'\n",
    "\n",
    "# 디렉토리 내의 모든 파일 목록 가져오기\n",
    "files = os.listdir(directory_labels)\n",
    "\n",
    "# 텍스트 파일들만 걸러내어 리스트로 저장\n",
    "text_files = [file for file in files if file.endswith('.txt')]\n",
    "\n",
    "# 각 텍스트 파일의 내용을 읽어들여 리스트로 저장\n",
    "full_list = []\n",
    "for text_file in text_files:\n",
    "    file_path = os.path.join(directory_labels, text_file)\n",
    "    with open(file_path, 'r') as file:\n",
    "        content = file.read().split()\n",
    "        content = list(map(float, content))\n",
    "        x_1 = content[1]-content[3]/2\n",
    "        y_1 = content[2]-content[4]/2\n",
    "        x_2 = content[1]+content[3]/2\n",
    "        y_2 = content[2]+content[4]/2\n",
    "        content = [x_1, y_1, x_2, y_2]\n",
    "        content = list(map(lambda x: int(640*x), content))\n",
    "        full_list.append(content)\n",
    "\n",
    "\n",
    "# 전체 리스트 출력\n",
    "for i in range(5):\n",
    "    print(full_list[i])"
   ]
  },
  {
   "cell_type": "code",
   "execution_count": 70,
   "metadata": {},
   "outputs": [
    {
     "name": "stdout",
     "output_type": "stream",
     "text": [
      "315 315\n"
     ]
    }
   ],
   "source": [
    "print(len(file_paths), len(full_list))"
   ]
  },
  {
   "cell_type": "code",
   "execution_count": 71,
   "metadata": {},
   "outputs": [
    {
     "name": "stdout",
     "output_type": "stream",
     "text": [
      "['C:/Users/baseoki/OneDrive/바탕 화면/프로젝트/camera_ObjectDetection/custom_dataset/1번데이터_cropped/FACE DETECTION.v3i.yolov8/train/images/20220726_ID0001_A_02_N00351_png.rf.33d11d18c6a5ea975643be1f17da001a.jpg', 126, 17, 527, 563, 'face']\n",
      "['C:/Users/baseoki/OneDrive/바탕 화면/프로젝트/camera_ObjectDetection/custom_dataset/1번데이터_cropped/FACE DETECTION.v3i.yolov8/train/images/20220726_ID0001_A_02_N00351_png.rf.8733e438ee4bf2749d001c9c1b67fd0a.jpg', 66, 31, 526, 622, 'face']\n",
      "['C:/Users/baseoki/OneDrive/바탕 화면/프로젝트/camera_ObjectDetection/custom_dataset/1번데이터_cropped/FACE DETECTION.v3i.yolov8/train/images/20220726_ID0001_A_02_N00351_png.rf.a271a942595025c88d09da6362b4dce7.jpg', 126, 24, 527, 591, 'face']\n",
      "['C:/Users/baseoki/OneDrive/바탕 화면/프로젝트/camera_ObjectDetection/custom_dataset/1번데이터_cropped/FACE DETECTION.v3i.yolov8/train/images/20220726_ID0001_A_02_N00444_png.rf.0d2a5785c92aba18e38f02583c079e34.jpg', 100, 101, 484, 544, 'face']\n",
      "['C:/Users/baseoki/OneDrive/바탕 화면/프로젝트/camera_ObjectDetection/custom_dataset/1번데이터_cropped/FACE DETECTION.v3i.yolov8/train/images/20220726_ID0001_A_02_N00444_png.rf.becf21137d9492a0d34568a0f0c45ef4.jpg', 148, 121, 495, 550, 'face']\n"
     ]
    }
   ],
   "source": [
    "data = []\n",
    "for i in range(len(file_paths)):\n",
    "    path = file_paths[i]\n",
    "    path[0] = path[0].replace('\\\\', '/')\n",
    "    coor = full_list[i]\n",
    "    path.extend(coor)\n",
    "    path.append('face')\n",
    "    data.append(path)\n",
    "\n",
    "for i in range(5):\n",
    "    print(data[i])"
   ]
  },
  {
   "cell_type": "code",
   "execution_count": 72,
   "metadata": {},
   "outputs": [],
   "source": [
    "class_data = [\n",
    "    ['face', 0]\n",
    "]"
   ]
  },
  {
   "cell_type": "code",
   "execution_count": 73,
   "metadata": {},
   "outputs": [],
   "source": [
    "current_directory = os.getcwd()\n",
    "csv_anootaion_file_path = os.path.join(current_directory, \"annotations.csv\")\n",
    "\n",
    "if os.path.exists(csv_anootaion_file_path):\n",
    "    os.remove(csv_anootaion_file_path)\n",
    "\n",
    "\n",
    "# CSV 파일에 데이터 작성\n",
    "with open(csv_anootaion_file_path, \"w\", newline='') as csvfile:\n",
    "    writer = csv.writer(csvfile)\n",
    "    for row in data:\n",
    "        writer.writerow(row)"
   ]
  },
  {
   "cell_type": "code",
   "execution_count": 74,
   "metadata": {},
   "outputs": [],
   "source": [
    "csv_class_file_path = os.path.join(current_directory, \"class.csv\")\n",
    "\n",
    "if os.path.exists(csv_class_file_path):\n",
    "    os.remove(csv_class_file_path)\n",
    "    \n",
    "        \n",
    "with open(csv_class_file_path, \"w\", newline='') as csvfile:\n",
    "    writer = csv.writer(csvfile)\n",
    "    for row in class_data:\n",
    "        writer.writerow(row)"
   ]
  },
  {
   "cell_type": "code",
   "execution_count": null,
   "metadata": {},
   "outputs": [],
   "source": []
  },
  {
   "cell_type": "code",
   "execution_count": null,
   "metadata": {},
   "outputs": [],
   "source": []
  }
 ],
 "metadata": {
  "kernelspec": {
   "display_name": "311k",
   "language": "python",
   "name": "py311"
  },
  "language_info": {
   "codemirror_mode": {
    "name": "ipython",
    "version": 3
   },
   "file_extension": ".py",
   "mimetype": "text/x-python",
   "name": "python",
   "nbconvert_exporter": "python",
   "pygments_lexer": "ipython3",
   "version": "3.11.9"
  }
 },
 "nbformat": 4,
 "nbformat_minor": 2
}
