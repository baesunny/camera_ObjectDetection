{
 "cells": [
  {
   "cell_type": "markdown",
   "metadata": {},
   "source": [
    "## 현재 추론 속도가 너무 느려서 반려중"
   ]
  },
  {
   "cell_type": "code",
   "execution_count": 1,
   "metadata": {},
   "outputs": [
    {
     "name": "stdout",
     "output_type": "stream",
     "text": [
      "rt-detr-l summary: 673 layers, 32970476 parameters, 0 gradients, 108.3 GFLOPs\n"
     ]
    },
    {
     "data": {
      "text/plain": [
       "(673, 32970476, 0, 108.3437056)"
      ]
     },
     "execution_count": 1,
     "metadata": {},
     "output_type": "execute_result"
    }
   ],
   "source": [
    "from ultralytics import RTDETR\n",
    "\n",
    "# Load a COCO-pretrained RT-DETR-l model\n",
    "model = RTDETR('rtdetr-l.pt')\n",
    "\n",
    "# Display model information (optional)\n",
    "model.info()\n"
   ]
  },
  {
   "cell_type": "code",
   "execution_count": 3,
   "metadata": {},
   "outputs": [
    {
     "name": "stdout",
     "output_type": "stream",
     "text": [
      "\n",
      "image 1/1 c:\\Users\\happy\\Desktop\\camera_ObjectDetection\\test\\hbd.jpg: 640x640 1 person, 1 cell phone, 1327.9ms\n",
      "Speed: 6.5ms preprocess, 1327.9ms inference, 1.0ms postprocess per image at shape (1, 3, 640, 640)\n"
     ]
    }
   ],
   "source": [
    "import cv2\n",
    "results = model.predict('hbd.jpg')\n",
    "\n",
    "# Convert the PIL segmentation mask to numpy array\n",
    "segmentation_array = results[0].plot()\n",
    "\n",
    "# Display the segmentation mask using OpenCV\n",
    "cv2.imshow('YOLO Segmentation', segmentation_array)\n",
    "cv2.waitKey(0)\n",
    "cv2.destroyAllWindows()"
   ]
  },
  {
   "cell_type": "code",
   "execution_count": 9,
   "metadata": {},
   "outputs": [
    {
     "name": "stdout",
     "output_type": "stream",
     "text": [
      "[240, 392, 380, 676] 0.9486308693885803 67\n",
      "[0, 94, 666, 801] 0.9793955683708191 0\n"
     ]
    }
   ],
   "source": [
    "for data in results[0].boxes.data.tolist(): \n",
    "    # data : [xmin, ymin, xmax, ymax, confidence_score, class_id]\n",
    "    xmin, ymin, xmax, ymax, conf, label = int(data[0]), int(data[1]), int(data[2]), int(data[3]), float(data[4]), int(data[5])\n",
    "    print([xmin,ymin,xmax,ymax],conf,label)"
   ]
  },
  {
   "cell_type": "code",
   "execution_count": 13,
   "metadata": {},
   "outputs": [
    {
     "name": "stdout",
     "output_type": "stream",
     "text": [
      "\n",
      "0: 640x640 1 person, 1 umbrella, 1304.8ms\n",
      "Speed: 7.3ms preprocess, 1304.8ms inference, 1.0ms postprocess per image at shape (1, 3, 640, 640)\n",
      "Time to process 1 frame: 1674 milliseconds\n",
      "FPS: 0.60\n",
      "\n",
      "0: 640x640 1 person, 1158.5ms\n",
      "Speed: 8.3ms preprocess, 1158.5ms inference, 0.0ms postprocess per image at shape (1, 3, 640, 640)\n",
      "Time to process 1 frame: 1179 milliseconds\n",
      "FPS: 0.85\n",
      "\n",
      "0: 640x640 1 person, 1092.6ms\n",
      "Speed: 6.4ms preprocess, 1092.6ms inference, 1.0ms postprocess per image at shape (1, 3, 640, 640)\n",
      "Time to process 1 frame: 1109 milliseconds\n",
      "FPS: 0.90\n",
      "\n",
      "0: 640x640 1 person, 1169.8ms\n",
      "Speed: 6.6ms preprocess, 1169.8ms inference, 1.0ms postprocess per image at shape (1, 3, 640, 640)\n",
      "Time to process 1 frame: 1186 milliseconds\n",
      "FPS: 0.84\n",
      "\n",
      "0: 640x640 1 person, 1100.4ms\n",
      "Speed: 8.0ms preprocess, 1100.4ms inference, 0.0ms postprocess per image at shape (1, 3, 640, 640)\n",
      "Time to process 1 frame: 1119 milliseconds\n",
      "FPS: 0.89\n",
      "\n",
      "0: 640x640 1 person, 1267.7ms\n",
      "Speed: 8.2ms preprocess, 1267.7ms inference, 1.0ms postprocess per image at shape (1, 3, 640, 640)\n",
      "Time to process 1 frame: 1289 milliseconds\n",
      "FPS: 0.78\n",
      "\n",
      "0: 640x640 1 person, 1399.2ms\n",
      "Speed: 7.0ms preprocess, 1399.2ms inference, 1.0ms postprocess per image at shape (1, 3, 640, 640)\n",
      "Time to process 1 frame: 1419 milliseconds\n",
      "FPS: 0.70\n",
      "\n",
      "0: 640x640 1 person, 1270.0ms\n",
      "Speed: 7.4ms preprocess, 1270.0ms inference, 0.0ms postprocess per image at shape (1, 3, 640, 640)\n",
      "Time to process 1 frame: 1289 milliseconds\n",
      "FPS: 0.78\n",
      "\n",
      "0: 640x640 1 person, 1230.1ms\n",
      "Speed: 7.0ms preprocess, 1230.1ms inference, 1.0ms postprocess per image at shape (1, 3, 640, 640)\n",
      "Time to process 1 frame: 1247 milliseconds\n",
      "FPS: 0.80\n",
      "\n",
      "0: 640x640 1 person, 1 bench, 1104.9ms\n",
      "Speed: 5.6ms preprocess, 1104.9ms inference, 0.0ms postprocess per image at shape (1, 3, 640, 640)\n",
      "Time to process 1 frame: 1120 milliseconds\n",
      "FPS: 0.89\n",
      "\n",
      "0: 640x640 1 person, 1136.0ms\n",
      "Speed: 5.7ms preprocess, 1136.0ms inference, 1.0ms postprocess per image at shape (1, 3, 640, 640)\n",
      "Time to process 1 frame: 1153 milliseconds\n",
      "FPS: 0.87\n",
      "\n",
      "0: 640x640 1 person, 1179.7ms\n",
      "Speed: 5.6ms preprocess, 1179.7ms inference, 1.0ms postprocess per image at shape (1, 3, 640, 640)\n",
      "Time to process 1 frame: 1196 milliseconds\n",
      "FPS: 0.84\n",
      "\n",
      "0: 640x640 1 person, 1 bench, 1143.3ms\n",
      "Speed: 7.0ms preprocess, 1143.3ms inference, 1.2ms postprocess per image at shape (1, 3, 640, 640)\n",
      "Time to process 1 frame: 1161 milliseconds\n",
      "FPS: 0.86\n",
      "\n",
      "0: 640x640 1 person, 1057.5ms\n",
      "Speed: 6.3ms preprocess, 1057.5ms inference, 0.0ms postprocess per image at shape (1, 3, 640, 640)\n",
      "Time to process 1 frame: 1073 milliseconds\n",
      "FPS: 0.93\n",
      "\n",
      "0: 640x640 1 person, 1108.5ms\n",
      "Speed: 6.2ms preprocess, 1108.5ms inference, 0.0ms postprocess per image at shape (1, 3, 640, 640)\n",
      "Time to process 1 frame: 1123 milliseconds\n",
      "FPS: 0.89\n",
      "\n",
      "0: 640x640 1 person, 1 bench, 1153.3ms\n",
      "Speed: 5.8ms preprocess, 1153.3ms inference, 1.0ms postprocess per image at shape (1, 3, 640, 640)\n",
      "Time to process 1 frame: 1168 milliseconds\n",
      "FPS: 0.86\n",
      "\n",
      "0: 640x640 1 person, 1137.7ms\n",
      "Speed: 6.1ms preprocess, 1137.7ms inference, 1.0ms postprocess per image at shape (1, 3, 640, 640)\n",
      "Time to process 1 frame: 1155 milliseconds\n",
      "FPS: 0.87\n",
      "\n",
      "0: 640x640 1 person, 1114.1ms\n",
      "Speed: 6.2ms preprocess, 1114.1ms inference, 1.0ms postprocess per image at shape (1, 3, 640, 640)\n",
      "Time to process 1 frame: 1129 milliseconds\n",
      "FPS: 0.89\n",
      "\n",
      "0: 640x640 1 person, 1140.8ms\n",
      "Speed: 5.9ms preprocess, 1140.8ms inference, 1.0ms postprocess per image at shape (1, 3, 640, 640)\n",
      "Time to process 1 frame: 1156 milliseconds\n",
      "FPS: 0.86\n",
      "\n",
      "0: 640x640 1 person, 1 bench, 1140.7ms\n",
      "Speed: 5.4ms preprocess, 1140.7ms inference, 1.0ms postprocess per image at shape (1, 3, 640, 640)\n",
      "Time to process 1 frame: 1158 milliseconds\n",
      "FPS: 0.86\n",
      "\n",
      "0: 640x640 1 person, 1095.7ms\n",
      "Speed: 6.7ms preprocess, 1095.7ms inference, 1.0ms postprocess per image at shape (1, 3, 640, 640)\n",
      "Time to process 1 frame: 1113 milliseconds\n",
      "FPS: 0.90\n",
      "\n",
      "0: 640x640 1 person, 1 bench, 1142.8ms\n",
      "Speed: 5.5ms preprocess, 1142.8ms inference, 1.5ms postprocess per image at shape (1, 3, 640, 640)\n",
      "Time to process 1 frame: 1159 milliseconds\n",
      "FPS: 0.86\n",
      "\n",
      "0: 640x640 1 person, 1136.2ms\n",
      "Speed: 5.0ms preprocess, 1136.2ms inference, 1.0ms postprocess per image at shape (1, 3, 640, 640)\n",
      "Time to process 1 frame: 1153 milliseconds\n",
      "FPS: 0.87\n",
      "\n",
      "0: 640x640 1 person, 2 benchs, 1149.6ms\n",
      "Speed: 6.0ms preprocess, 1149.6ms inference, 1.0ms postprocess per image at shape (1, 3, 640, 640)\n",
      "Time to process 1 frame: 1166 milliseconds\n",
      "FPS: 0.86\n",
      "\n",
      "0: 640x640 1 person, 1117.1ms\n",
      "Speed: 7.2ms preprocess, 1117.1ms inference, 0.0ms postprocess per image at shape (1, 3, 640, 640)\n",
      "Time to process 1 frame: 1133 milliseconds\n",
      "FPS: 0.88\n",
      "\n",
      "0: 640x640 1 person, 1159.9ms\n",
      "Speed: 5.9ms preprocess, 1159.9ms inference, 0.0ms postprocess per image at shape (1, 3, 640, 640)\n",
      "Time to process 1 frame: 1174 milliseconds\n",
      "FPS: 0.85\n",
      "\n",
      "0: 640x640 1 person, 1115.4ms\n",
      "Speed: 5.4ms preprocess, 1115.4ms inference, 1.0ms postprocess per image at shape (1, 3, 640, 640)\n",
      "Time to process 1 frame: 1131 milliseconds\n",
      "FPS: 0.88\n",
      "\n",
      "0: 640x640 1 person, 1 bench, 1123.9ms\n",
      "Speed: 5.0ms preprocess, 1123.9ms inference, 1.0ms postprocess per image at shape (1, 3, 640, 640)\n",
      "Time to process 1 frame: 1139 milliseconds\n",
      "FPS: 0.88\n",
      "\n",
      "0: 640x640 1 person, 1108.4ms\n",
      "Speed: 6.2ms preprocess, 1108.4ms inference, 1.0ms postprocess per image at shape (1, 3, 640, 640)\n",
      "Time to process 1 frame: 1125 milliseconds\n",
      "FPS: 0.89\n"
     ]
    }
   ],
   "source": [
    "import time\n",
    "cap = cv2.VideoCapture(0)\n",
    "cap.set(cv2.CAP_PROP_FRAME_WIDTH,1280)\n",
    "cap.set(cv2.CAP_PROP_FRAME_HEIGHT, 720)\n",
    "\n",
    "while True:\n",
    "    start = time.time()\n",
    "    success, frame = cap.read()\n",
    "    if not success:\n",
    "        print('Cam Error')\n",
    "        break\n",
    "    detection = model.predict(frame)[0]\n",
    "    for data in detection.boxes.data.tolist(): \n",
    "        # data : [xmin, ymin, xmax, ymax, confidence_score, class_id]\n",
    "        xmin, ymin, xmax, ymax, conf, label = int(data[0]), int(data[1]), int(data[2]), int(data[3]), float(data[4]), int(data[5])\n",
    "\n",
    "    cv2.rectangle(frame, (xmin, ymin), (xmax, ymax), (0,255,0), 2)\n",
    "    cv2.putText(frame, str(label)+' '+str(round(conf, 2)), (xmin, ymin-10), cv2.FONT_ITALIC, 1, (255,255,255), 2)\n",
    "\n",
    "    # fps 계산\n",
    "    end = time.time()\n",
    "    totalTime = (end - start)\n",
    "    fps = f'FPS: {1 / totalTime:.2f}'\n",
    "    print(f'Time to process 1 frame: {totalTime * 1000:.0f} milliseconds')\n",
    "    print(fps)\n",
    "        \n",
    "    cv2.putText(frame, fps, (10, 20), cv2.FONT_HERSHEY_SIMPLEX, 0.5, (0, 0, 255), 2) # fps 표시\n",
    "    cv2.imshow('frame', frame)\n",
    "        \n",
    "    if cv2.waitKey(1) == ord('q'):\n",
    "            break\n",
    "\n",
    "cap.release()\n",
    "cv2.destroyAllWindows()"
   ]
  }
 ],
 "metadata": {
  "kernelspec": {
   "display_name": "yolov8",
   "language": "python",
   "name": "yolov8"
  },
  "language_info": {
   "codemirror_mode": {
    "name": "ipython",
    "version": 3
   },
   "file_extension": ".py",
   "mimetype": "text/x-python",
   "name": "python",
   "nbconvert_exporter": "python",
   "pygments_lexer": "ipython3",
   "version": "3.8.19"
  }
 },
 "nbformat": 4,
 "nbformat_minor": 2
}
